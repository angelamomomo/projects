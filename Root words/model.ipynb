{
 "cells": [
  {
   "cell_type": "code",
   "execution_count": 13,
   "metadata": {},
   "outputs": [],
   "source": [
    "import nltk\n",
    "\n",
    "#from nltk.stem import PorterStemmer \n",
    "\n",
    "#Stemming \n",
    "from nltk.stem.snowball import SnowballStemmer\n",
    "ss = SnowballStemmer(\"english\") "
   ]
  },
  {
   "cell_type": "code",
   "execution_count": 14,
   "metadata": {},
   "outputs": [],
   "source": [
    "def rm_punct (string):\n",
    "    punctuations = '''!()-[]{};:'\"\\,<>./?@#$%^&*_~'''\n",
    "\n",
    "    no_punct = \"\"\n",
    "    for char in string:\n",
    "        if char not in punctuations:\n",
    "            no_punct = no_punct + char\n",
    "    return no_punct\n"
   ]
  },
  {
   "cell_type": "code",
   "execution_count": 15,
   "metadata": {},
   "outputs": [],
   "source": [
    "def sort_dict(dct):\n",
    "    dct_sorted_keys = sorted(dct, key=dct.get, reverse=True)\n",
    "    for r in dct_sorted_keys:\n",
    "        print(r, dct[r])"
   ]
  },
  {
   "cell_type": "code",
   "execution_count": 9,
   "metadata": {},
   "outputs": [],
   "source": [
    "def make_word_count(infile_name):\n",
    "    # gather info\n",
    "    infile = open(infile_name, 'r')\n",
    "    text = infile.read()\n",
    "    text=rm_punct(text).split()\n",
    "    infile.close()\n",
    "\n",
    "    words_stemmed=[]\n",
    "    for w in text:\n",
    "        words_stemmed.append(ss.stem(w))\n",
    "  \n",
    "    word_count = dict()\n",
    "    for word in words_stemmed:\n",
    "        if not word in word_count:\n",
    "            word_count[word] = 1\n",
    "        else:\n",
    "            word_count[word] += 1\n",
    "    return sort_dict(word_count)"
   ]
  },
  {
   "cell_type": "code",
   "execution_count": 16,
   "metadata": {},
   "outputs": [
    {
     "name": "stdout",
     "output_type": "stream",
     "text": [
      "dog 5\n",
      "my 4\n",
      "love 3\n",
      "famili 3\n",
      "i 2\n",
      "a 2\n",
      "is 2\n",
      "and 1\n",
      "am 1\n",
      "person 1\n",
      "who 1\n",
      "like 1\n",
      "play 1\n",
      "with 1\n",
      "them 1\n",
      "everyth 1\n",
      "are 1\n",
      "it 1\n",
      "mom 1\n",
      "too 1\n"
     ]
    }
   ],
   "source": [
    "make_word_count(\"simple dog.txt\")"
   ]
  },
  {
   "cell_type": "code",
   "execution_count": null,
   "metadata": {},
   "outputs": [],
   "source": []
  },
  {
   "cell_type": "code",
   "execution_count": null,
   "metadata": {},
   "outputs": [],
   "source": []
  }
 ],
 "metadata": {
  "kernelspec": {
   "display_name": "Python 3",
   "language": "python",
   "name": "python3"
  },
  "language_info": {
   "codemirror_mode": {
    "name": "ipython",
    "version": 3
   },
   "file_extension": ".py",
   "mimetype": "text/x-python",
   "name": "python",
   "nbconvert_exporter": "python",
   "pygments_lexer": "ipython3",
   "version": "3.7.4"
  }
 },
 "nbformat": 4,
 "nbformat_minor": 2
}
