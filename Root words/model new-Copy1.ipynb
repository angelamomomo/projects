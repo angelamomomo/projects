{
 "cells": [
  {
   "cell_type": "code",
   "execution_count": 1,
   "metadata": {},
   "outputs": [
    {
     "name": "stderr",
     "output_type": "stream",
     "text": [
      "[nltk_data] Downloading package stopwords to\n",
      "[nltk_data]     C:\\Users\\achen551\\AppData\\Roaming\\nltk_data...\n",
      "[nltk_data]   Package stopwords is already up-to-date!\n"
     ]
    },
    {
     "data": {
      "text/plain": [
       "True"
      ]
     },
     "execution_count": 1,
     "metadata": {},
     "output_type": "execute_result"
    }
   ],
   "source": [
    "import nltk\n",
    "\n",
    "#Stemming \n",
    "from nltk.stem.snowball import SnowballStemmer\n",
    "ss = SnowballStemmer(\"english\") \n",
    "nltk.download('stopwords')"
   ]
  },
  {
   "cell_type": "code",
   "execution_count": 2,
   "metadata": {},
   "outputs": [],
   "source": [
    "def rm_punct (string):\n",
    "    punctuations = '''!()-[]{};:'\"\\,<>./?@#$%^&*_~1234567890'''\n",
    "\n",
    "    no_punct = \"\"\n",
    "    for char in string:\n",
    "        if char not in punctuations:\n",
    "            no_punct = no_punct + char\n",
    "    return no_punct\n"
   ]
  },
  {
   "cell_type": "code",
   "execution_count": 3,
   "metadata": {},
   "outputs": [],
   "source": [
    "def sort_dict(dct):\n",
    "    dct_sorted_keys = sorted(dct, key=dct.get, reverse=True)\n",
    "    for r in dct_sorted_keys:\n",
    "        print(r, dct[r])"
   ]
  },
  {
   "cell_type": "code",
   "execution_count": 4,
   "metadata": {},
   "outputs": [],
   "source": [
    "def rm_stopword(lst):#remove stopwords\n",
    "    stopwords = nltk.corpus.stopwords.words('english')\n",
    "    ct=[]\n",
    "    for sentences in lst:\n",
    "        newlst = []\n",
    "        for w in sentences.lower().split():\n",
    "            if w not in stopwords and len(w) > 1:\n",
    "                newlst.append(w)\n",
    "        clean_sentences=\"\"\n",
    "        for w in newlst:\n",
    "            clean_sentences+=w+\" \"\n",
    "        ct.append(clean_sentences)\n",
    "    return ct"
   ]
  },
  {
   "cell_type": "code",
   "execution_count": 5,
   "metadata": {},
   "outputs": [],
   "source": [
    "def make_word_count(infile_name):\n",
    "    # gather info\n",
    "    infile = open(infile_name, 'r')\n",
    "    text = infile.read()\n",
    "    text=rm_punct(text).split()\n",
    "    infile.close()\n",
    "\n",
    "    words_stemmed=[]\n",
    "    for w in text:\n",
    "        words_stemmed.append(ss.stem(w))\n",
    "    words_stemmed=rm_stopword(words_stemmed)\n",
    "    word_count = dict()\n",
    "    for word in words_stemmed:\n",
    "        if not word in word_count:\n",
    "            word_count[word] = 1\n",
    "        else:\n",
    "            word_count[word] += 1\n",
    "    return sort_dict(word_count)"
   ]
  },
  {
   "cell_type": "code",
   "execution_count": 6,
   "metadata": {},
   "outputs": [
    {
     "name": "stdout",
     "output_type": "stream",
     "text": [
      " 18\n",
      "dog  5\n",
      "love  3\n",
      "famili  3\n",
      "person  1\n",
      "like  1\n",
      "play  1\n",
      "everyth  1\n",
      "mom  1\n"
     ]
    }
   ],
   "source": [
    "make_word_count(\"simple dog.txt\")"
   ]
  },
  {
   "cell_type": "code",
   "execution_count": null,
   "metadata": {},
   "outputs": [],
   "source": []
  }
 ],
 "metadata": {
  "kernelspec": {
   "display_name": "Python 3",
   "language": "python",
   "name": "python3"
  },
  "language_info": {
   "codemirror_mode": {
    "name": "ipython",
    "version": 3
   },
   "file_extension": ".py",
   "mimetype": "text/x-python",
   "name": "python",
   "nbconvert_exporter": "python",
   "pygments_lexer": "ipython3",
   "version": "3.7.4"
  }
 },
 "nbformat": 4,
 "nbformat_minor": 2
}
