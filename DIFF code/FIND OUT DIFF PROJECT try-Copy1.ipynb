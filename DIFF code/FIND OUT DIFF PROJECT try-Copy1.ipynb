{
 "cells": [
  {
   "cell_type": "code",
   "execution_count": 3,
   "metadata": {},
   "outputs": [],
   "source": [
    " import difflib"
   ]
  },
  {
   "cell_type": "code",
   "execution_count": 4,
   "metadata": {},
   "outputs": [
    {
     "name": "stdout",
     "output_type": "stream",
     "text": [
      "Requirement already satisfied: termcolor in c:\\users\\achen551\\appdata\\local\\continuum\\anaconda3\\lib\\site-packages (1.1.0)\n",
      "Note: you may need to restart the kernel to use updated packages.\n"
     ]
    }
   ],
   "source": [
    "pip install termcolor"
   ]
  },
  {
   "cell_type": "code",
   "execution_count": null,
   "metadata": {},
   "outputs": [],
   "source": [
    "a=input(\"Input first sentence:\")\n",
    "b=input(\"input second sentence:\")\n",
    "a1=a.lower().split()\n",
    "b1=b.lower().split()"
   ]
  },
  {
   "cell_type": "code",
   "execution_count": 5,
   "metadata": {},
   "outputs": [],
   "source": [
    "d = difflib.Differ()\n",
    "l = list(d.compare(a1,b1))"
   ]
  },
  {
   "cell_type": "code",
   "execution_count": 10,
   "metadata": {
    "scrolled": true
   },
   "outputs": [
    {
     "data": {
      "text/plain": [
       "['  gland,',\n",
       " '  cable,',\n",
       " '- cable',\n",
       " '- size:',\n",
       " '- m20,',\n",
       " '- size:',\n",
       " '- a,',\n",
       " '- additional',\n",
       " '- details:',\n",
       " '  type:',\n",
       " '- dbl',\n",
       " '- seal',\n",
       " '- project,',\n",
       " '- type',\n",
       " '- b,',\n",
       " '- diaph',\n",
       " '- inner',\n",
       " '- seal,',\n",
       " '  universal,',\n",
       " '+ material:',\n",
       " '+ nickel',\n",
       " '+ plated',\n",
       " '+ brass,',\n",
       " '- manufacture',\n",
       " '+ manufacturer',\n",
       " '?            +\\n',\n",
       " '- r',\n",
       " '  name:',\n",
       " '  hawke,',\n",
       " '  manufacturer',\n",
       " '  part',\n",
       " '  number:',\n",
       " '- 501453univosm20',\n",
       " '+ 501453univosm20,',\n",
       " '?                +\\n',\n",
       " '+ q',\n",
       " '+ a',\n",
       " '+ details:',\n",
       " '+ warehouse',\n",
       " '+ to',\n",
       " '+ confirm',\n",
       " '+ part',\n",
       " '+ number,',\n",
       " '+ warehouse',\n",
       " '+ to',\n",
       " '+ confirm',\n",
       " '+ csa,',\n",
       " '+ ul',\n",
       " '+ or',\n",
       " '+ fm',\n",
       " '+ safety',\n",
       " '+ markings']"
      ]
     },
     "execution_count": 10,
     "metadata": {},
     "output_type": "execute_result"
    }
   ],
   "source": [
    "l"
   ]
  },
  {
   "cell_type": "code",
   "execution_count": 7,
   "metadata": {},
   "outputs": [
    {
     "name": "stdout",
     "output_type": "stream",
     "text": [
      "\u001b[5m\u001b[7m\u001b[31mHello, World!\u001b[0m\n"
     ]
    }
   ],
   "source": [
    "import sys\n",
    "from termcolor import colored, cprint\n",
    "\n",
    "text = colored('Hello, World!', 'red', attrs=['reverse', 'blink'])\n",
    "print(text)\n"
   ]
  },
  {
   "cell_type": "code",
   "execution_count": 14,
   "metadata": {},
   "outputs": [
    {
     "name": "stdout",
     "output_type": "stream",
     "text": [
      "and,\n",
      "ble,\n",
      "\u001b[7m\u001b[31m- cable\u001b[0m\n",
      "\u001b[7m\u001b[31m- size:\u001b[0m\n",
      "\u001b[7m\u001b[31m- m20,\u001b[0m\n",
      "\u001b[7m\u001b[31m- size:\u001b[0m\n",
      "\u001b[7m\u001b[31m- a,\u001b[0m\n",
      "\u001b[7m\u001b[31m- additional\u001b[0m\n",
      "\u001b[7m\u001b[31m- details:\u001b[0m\n",
      "pe:\n",
      "\u001b[7m\u001b[31m- dbl\u001b[0m\n",
      "\u001b[7m\u001b[31m- seal\u001b[0m\n",
      "\u001b[7m\u001b[31m- project,\u001b[0m\n",
      "\u001b[7m\u001b[31m- type\u001b[0m\n",
      "\u001b[7m\u001b[31m- b,\u001b[0m\n",
      "\u001b[7m\u001b[31m- diaph\u001b[0m\n",
      "\u001b[7m\u001b[31m- inner\u001b[0m\n",
      "\u001b[7m\u001b[31m- seal,\u001b[0m\n",
      "iversal,\n",
      "terial:\n",
      "ckel\n",
      "ated\n",
      "ass,\n",
      "\u001b[7m\u001b[31m- manufacture\u001b[0m\n",
      "nufacturer\n",
      "         +\n",
      "\n",
      "\u001b[7m\u001b[31m- r\u001b[0m\n",
      "me:\n",
      "wke,\n",
      "nufacturer\n",
      "rt\n",
      "mber:\n",
      "\u001b[7m\u001b[31m- 501453univosm20\u001b[0m\n",
      "1453univosm20,\n",
      "             +\n",
      "\n",
      "\n",
      "\n",
      "tails:\n",
      "rehouse\n",
      "\n",
      "nfirm\n",
      "rt\n",
      "mber,\n",
      "rehouse\n",
      "\n",
      "nfirm\n",
      "a,\n",
      "\n",
      "\n",
      "\n",
      "fety\n",
      "rkings\n"
     ]
    }
   ],
   "source": [
    "newgroup=[]\n",
    "for word in l:\n",
    "    if word.startswith(\"- \"or \"- \"or \"?\"):\n",
    "        word = colored(word, 'red', attrs=['reverse', 'blink'])\n",
    "        print(word[4:])\n",
    "    else:\n",
    "        print(word[4:])\n"
   ]
  },
  {
   "cell_type": "code",
   "execution_count": 11,
   "metadata": {},
   "outputs": [
    {
     "name": "stdout",
     "output_type": "stream",
     "text": [
      "\u001b[5m\u001b[7m\u001b[31mhello, world!\u001b[0m\n",
      "\u001b[5m\u001b[7m\u001b[31mhello, world!\u001b[0m\n",
      "\u001b[5m\u001b[7m\u001b[31mhello, world!\u001b[0m\n",
      "\u001b[5m\u001b[7m\u001b[31mhello, world!\u001b[0m\n",
      "\u001b[5m\u001b[7m\u001b[31mhello, world!\u001b[0m\n",
      "\u001b[5m\u001b[7m\u001b[31mhello, world!\u001b[0m\n",
      "\u001b[5m\u001b[7m\u001b[31mhello, world!\u001b[0m\n",
      "\u001b[5m\u001b[7m\u001b[31mhello, world!\u001b[0m\n",
      "\u001b[5m\u001b[7m\u001b[31mhello, world!\u001b[0m\n"
     ]
    }
   ],
   "source": [
    "newgroup=[]\n",
    "for word in l:\n",
    "    if word.startswith(\"  \"):\n",
    "        word = \" \".join(colored(t,'white','on_red') if t in word else t for t in text.lower().split())\n",
    "        print(word)\n"
   ]
  },
  {
   "cell_type": "code",
   "execution_count": 12,
   "metadata": {},
   "outputs": [
    {
     "name": "stdout",
     "output_type": "stream",
     "text": [
      "gland, cable, cable size: m20, size: a, additional details: type: dbl seal project, type b, diaph inner seal, universal, manufacture r name: hawke, manufacturer part number: 501453univosm20\n",
      "gland, cable, type: universal, material: nickel plated brass, manufacturer name: hawke, manufacturer part number: 501453univosm20, q a details: warehouse to confirm part number, warehouse to confirm csa, ul or fm safety markings\n"
     ]
    }
   ],
   "source": [
    "text=a\n",
    "l1=newgroup\n",
    "result = \" \".join(colored(t,'white','on_red') if t in l1 else t for t in text.lower().split())\n",
    "print(result)\n",
    "\n",
    "text2=b\n",
    "l1=newgroup\n",
    "result2 = \" \".join(colored(t,'white','on_red') if t in l1 else t for t in text2.lower().split())\n",
    "print(result2)"
   ]
  },
  {
   "cell_type": "code",
   "execution_count": null,
   "metadata": {},
   "outputs": [],
   "source": [
    "file1 = open(\"MyFile.txt\",\"w\") \n",
    "file1.writelines([result,result2])\n",
    "file1.close()"
   ]
  },
  {
   "cell_type": "code",
   "execution_count": null,
   "metadata": {},
   "outputs": [],
   "source": []
  },
  {
   "cell_type": "code",
   "execution_count": null,
   "metadata": {},
   "outputs": [],
   "source": []
  }
 ],
 "metadata": {
  "kernelspec": {
   "display_name": "Python 3",
   "language": "python",
   "name": "python3"
  },
  "language_info": {
   "codemirror_mode": {
    "name": "ipython",
    "version": 3
   },
   "file_extension": ".py",
   "mimetype": "text/x-python",
   "name": "python",
   "nbconvert_exporter": "python",
   "pygments_lexer": "ipython3",
   "version": "3.7.4"
  }
 },
 "nbformat": 4,
 "nbformat_minor": 2
}
