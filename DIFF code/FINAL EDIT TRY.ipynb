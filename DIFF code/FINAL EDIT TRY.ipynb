{
 "cells": [
  {
   "cell_type": "code",
   "execution_count": 4,
   "metadata": {},
   "outputs": [],
   "source": [
    " import difflib"
   ]
  },
  {
   "cell_type": "code",
   "execution_count": 5,
   "metadata": {},
   "outputs": [
    {
     "name": "stdout",
     "output_type": "stream",
     "text": [
      "Requirement already satisfied: termcolor in c:\\users\\achen551\\appdata\\local\\continuum\\anaconda3\\lib\\site-packages (1.1.0)\n",
      "Note: you may need to restart the kernel to use updated packages.\n"
     ]
    }
   ],
   "source": [
    "pip install termcolor"
   ]
  },
  {
   "cell_type": "code",
   "execution_count": 8,
   "metadata": {},
   "outputs": [
    {
     "name": "stdout",
     "output_type": "stream",
     "text": [
      "Input first sentence:KEY, HEX, SIZE X LENGTH: M10, APPLICATION: F/M10 BOLT, MANUFACTURER NAME: SHIN MYUNG TECH, MANUFACTURER PART NUMBER: SCM 3, QA DETAI LS: WAREHOUSE TO CONFIRM PART NUMBER \n",
      "input second sentence:KEY, HEX, SIZE X LENGTH: M8, APPLICATION: F/M8 BOLT, MANUFACTURER NAME: SHIN MYUNG TECH, MANUFACTURER PART NUMBER: SCM 3, QA DETAILS : WAREHOUSE TO CONFIRM PART NUMBER\n"
     ]
    }
   ],
   "source": [
    "a=input(\"Input first sentence:\")\n",
    "b=input(\"input second sentence:\")\n",
    "a1=a.lower().split()\n",
    "b1=b.lower().split()"
   ]
  },
  {
   "cell_type": "code",
   "execution_count": 9,
   "metadata": {},
   "outputs": [],
   "source": [
    "def inline_diff(a, b):\n",
    "    matcher = difflib.SequenceMatcher(None, a.lower(), b.lower())\n",
    "    def process_tag(tag, i1, i2, j1, j2):\n",
    "        if tag == 'replace':\n",
    "            return '{' + matcher.a[i1:i2] + ' -> ' + matcher.b[j1:j2] + '}'\n",
    "        if tag == 'delete':\n",
    "            return '{- ' + matcher.a[i1:i2] + '}'\n",
    "        if tag == 'equal':\n",
    "            return matcher.a[i1:i2]\n",
    "        if tag == 'insert':\n",
    "            return '{+ ' + matcher.b[j1:j2] + '}'\n",
    "        assert false, \"Unknown tag %r\"%tag\n",
    "    return ''.join(process_tag(*t) for t in matcher.get_opcodes())"
   ]
  },
  {
   "cell_type": "code",
   "execution_count": 10,
   "metadata": {
    "scrolled": true
   },
   "outputs": [
    {
     "data": {
      "text/plain": [
       "'key, hex, size x length: m{10 -> 8}, application: f/m{10 -> 8} bolt, manufacturer name: shin myung tech, manufacturer part number: scm 3, qa detai{-  }ls{+  }: warehouse to confirm part number{-  }'"
      ]
     },
     "execution_count": 10,
     "metadata": {},
     "output_type": "execute_result"
    }
   ],
   "source": [
    "inline_diff(a,b)"
   ]
  },
  {
   "cell_type": "code",
   "execution_count": null,
   "metadata": {},
   "outputs": [],
   "source": []
  },
  {
   "cell_type": "code",
   "execution_count": null,
   "metadata": {},
   "outputs": [],
   "source": []
  }
 ],
 "metadata": {
  "kernelspec": {
   "display_name": "Python 3",
   "language": "python",
   "name": "python3"
  },
  "language_info": {
   "codemirror_mode": {
    "name": "ipython",
    "version": 3
   },
   "file_extension": ".py",
   "mimetype": "text/x-python",
   "name": "python",
   "nbconvert_exporter": "python",
   "pygments_lexer": "ipython3",
   "version": "3.7.4"
  }
 },
 "nbformat": 4,
 "nbformat_minor": 2
}
