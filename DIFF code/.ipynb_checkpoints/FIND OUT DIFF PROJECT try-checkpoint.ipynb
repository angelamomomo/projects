{
 "cells": [
  {
   "cell_type": "code",
   "execution_count": 7,
   "metadata": {},
   "outputs": [],
   "source": [
    " import difflib"
   ]
  },
  {
   "cell_type": "code",
   "execution_count": 8,
   "metadata": {},
   "outputs": [
    {
     "name": "stdout",
     "output_type": "stream",
     "text": [
      "Requirement already satisfied: termcolor in c:\\users\\achen551\\appdata\\local\\continuum\\anaconda3\\lib\\site-packages (1.1.0)\n",
      "Note: you may need to restart the kernel to use updated packages.\n"
     ]
    }
   ],
   "source": [
    "pip install termcolor"
   ]
  },
  {
   "cell_type": "code",
   "execution_count": 54,
   "metadata": {},
   "outputs": [
    {
     "name": "stdout",
     "output_type": "stream",
     "text": [
      "Input first sentence:1. O-RING, TYPE: P34, APPLICATION: F/MODEL 32/40A VALVE, MANUFACTURER NAME: MTH CONT VALVES, MANUFACTURER PART NUMBER: 32\n",
      "input second sentence:2. O-RING, TYPE: P65, APPLICATION: F/MODEL 25 VALVE, MANUFACTURER NAME: MTH CONT VALVES, MANUFACTURER PART NUMBER: 32\n"
     ]
    }
   ],
   "source": [
    "a=input(\"Input first sentence:\")\n",
    "b=input(\"input second sentence:\")\n",
    "a1=a.lower().split()\n",
    "b1=b.lower().split()"
   ]
  },
  {
   "cell_type": "code",
   "execution_count": 55,
   "metadata": {},
   "outputs": [],
   "source": [
    "d = difflib.Differ()\n",
    "l = list(d.compare(a1,b1))"
   ]
  },
  {
   "cell_type": "code",
   "execution_count": 56,
   "metadata": {
    "scrolled": false
   },
   "outputs": [
    {
     "data": {
      "text/plain": [
       "['- 1.',\n",
       " '+ 2.',\n",
       " '  o-ring,',\n",
       " '  type:',\n",
       " '- p34,',\n",
       " '+ p65,',\n",
       " '  application:',\n",
       " '  f/model',\n",
       " '- 32/40a',\n",
       " '+ 25',\n",
       " '  valve,',\n",
       " '  manufacturer',\n",
       " '  name:',\n",
       " '  mth',\n",
       " '  cont',\n",
       " '  valves,',\n",
       " '  manufacturer',\n",
       " '  part',\n",
       " '  number:',\n",
       " '  32']"
      ]
     },
     "execution_count": 56,
     "metadata": {},
     "output_type": "execute_result"
    }
   ],
   "source": [
    "l"
   ]
  },
  {
   "cell_type": "code",
   "execution_count": 57,
   "metadata": {},
   "outputs": [
    {
     "data": {
      "text/plain": [
       "['o-ring,',\n",
       " 'type:',\n",
       " 'application:',\n",
       " 'f/model',\n",
       " 'valve,',\n",
       " 'manufacturer',\n",
       " 'name:',\n",
       " 'mth',\n",
       " 'cont',\n",
       " 'valves,',\n",
       " 'manufacturer',\n",
       " 'part',\n",
       " 'number:',\n",
       " '32']"
      ]
     },
     "execution_count": 57,
     "metadata": {},
     "output_type": "execute_result"
    }
   ],
   "source": [
    "newgroup=[]\n",
    "for word in l:\n",
    "    if word.startswith(\"  \"):\n",
    "        word=word[2:]\n",
    "        newgroup.append(word)\n",
    "newgroup"
   ]
  },
  {
   "cell_type": "code",
   "execution_count": 59,
   "metadata": {},
   "outputs": [
    {
     "name": "stdout",
     "output_type": "stream",
     "text": [
      "1. \u001b[41m\u001b[37mo-ring,\u001b[0m \u001b[41m\u001b[37mtype:\u001b[0m p34, \u001b[41m\u001b[37mapplication:\u001b[0m \u001b[41m\u001b[37mf/model\u001b[0m 32/40a \u001b[41m\u001b[37mvalve,\u001b[0m \u001b[41m\u001b[37mmanufacturer\u001b[0m \u001b[41m\u001b[37mname:\u001b[0m \u001b[41m\u001b[37mmth\u001b[0m \u001b[41m\u001b[37mcont\u001b[0m \u001b[41m\u001b[37mvalves,\u001b[0m \u001b[41m\u001b[37mmanufacturer\u001b[0m \u001b[41m\u001b[37mpart\u001b[0m \u001b[41m\u001b[37mnumber:\u001b[0m \u001b[41m\u001b[37m32\u001b[0m\n",
      "2. \u001b[41m\u001b[37mo-ring,\u001b[0m \u001b[41m\u001b[37mtype:\u001b[0m p65, \u001b[41m\u001b[37mapplication:\u001b[0m \u001b[41m\u001b[37mf/model\u001b[0m 25 \u001b[41m\u001b[37mvalve,\u001b[0m \u001b[41m\u001b[37mmanufacturer\u001b[0m \u001b[41m\u001b[37mname:\u001b[0m \u001b[41m\u001b[37mmth\u001b[0m \u001b[41m\u001b[37mcont\u001b[0m \u001b[41m\u001b[37mvalves,\u001b[0m \u001b[41m\u001b[37mmanufacturer\u001b[0m \u001b[41m\u001b[37mpart\u001b[0m \u001b[41m\u001b[37mnumber:\u001b[0m \u001b[41m\u001b[37m32\u001b[0m\n"
     ]
    }
   ],
   "source": [
    "from termcolor import colored\n",
    "text=a\n",
    "l1=newgroup\n",
    "result = \" \".join(colored(t,'white','on_red') if t in l1 else t for t in text.lower().split())\n",
    "print(result)\n",
    "\n",
    "text2=b\n",
    "l1=newgroup\n",
    "result2 = \" \".join(colored(t,'white','on_red') if t in l1 else t for t in text2.lower().split())\n",
    "print(result2)"
   ]
  },
  {
   "cell_type": "code",
   "execution_count": 60,
   "metadata": {},
   "outputs": [],
   "source": [
    "file1 = open(\"MyFile.txt\",\"w\") \n",
    "file1.writelines([result,result2])\n",
    "file1.close()"
   ]
  },
  {
   "cell_type": "code",
   "execution_count": null,
   "metadata": {},
   "outputs": [],
   "source": []
  }
 ],
 "metadata": {
  "kernelspec": {
   "display_name": "Python 3",
   "language": "python",
   "name": "python3"
  },
  "language_info": {
   "codemirror_mode": {
    "name": "ipython",
    "version": 3
   },
   "file_extension": ".py",
   "mimetype": "text/x-python",
   "name": "python",
   "nbconvert_exporter": "python",
   "pygments_lexer": "ipython3",
   "version": "3.7.4"
  }
 },
 "nbformat": 4,
 "nbformat_minor": 2
}
