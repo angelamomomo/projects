{
 "cells": [
  {
   "cell_type": "code",
   "execution_count": 7,
   "metadata": {},
   "outputs": [],
   "source": [
    " import difflib"
   ]
  },
  {
   "cell_type": "code",
   "execution_count": 8,
   "metadata": {},
   "outputs": [
    {
     "name": "stdout",
     "output_type": "stream",
     "text": [
      "Requirement already satisfied: termcolor in c:\\users\\achen551\\appdata\\local\\continuum\\anaconda3\\lib\\site-packages (1.1.0)\n",
      "Note: you may need to restart the kernel to use updated packages.\n"
     ]
    }
   ],
   "source": [
    "pip install termcolor"
   ]
  },
  {
   "cell_type": "code",
   "execution_count": 54,
   "metadata": {},
   "outputs": [
    {
     "name": "stdout",
     "output_type": "stream",
     "text": [
      "Input first sentence:1. O-RING, TYPE: P34, APPLICATION: F/MODEL 32/40A VALVE, MANUFACTURER NAME: MTH CONT VALVES, MANUFACTURER PART NUMBER: 32\n",
      "input second sentence:2. O-RING, TYPE: P65, APPLICATION: F/MODEL 25 VALVE, MANUFACTURER NAME: MTH CONT VALVES, MANUFACTURER PART NUMBER: 32\n"
     ]
    }
   ],
   "source": [
    "a=input(\"Input first sentence:\")\n",
    "b=input(\"input second sentence:\")\n",
    "a1=a.lower().split()\n",
    "b1=b.lower().split()"
   ]
  },
  {
   "cell_type": "code",
   "execution_count": 55,
   "metadata": {},
   "outputs": [],
   "source": [
    "d = difflib.Differ()\n",
    "l = list(d.compare(a1,b1))"
   ]
  },
  {
   "cell_type": "code",
   "execution_count": 56,
   "metadata": {
    "scrolled": true
   },
   "outputs": [
    {
     "data": {
      "text/plain": [
       "['- 1.',\n",
       " '+ 2.',\n",
       " '  o-ring,',\n",
       " '  type:',\n",
       " '- p34,',\n",
       " '+ p65,',\n",
       " '  application:',\n",
       " '  f/model',\n",
       " '- 32/40a',\n",
       " '+ 25',\n",
       " '  valve,',\n",
       " '  manufacturer',\n",
       " '  name:',\n",
       " '  mth',\n",
       " '  cont',\n",
       " '  valves,',\n",
       " '  manufacturer',\n",
       " '  part',\n",
       " '  number:',\n",
       " '  32']"
      ]
     },
     "execution_count": 56,
     "metadata": {},
     "output_type": "execute_result"
    }
   ],
   "source": [
    "l"
   ]
  },
  {
   "cell_type": "code",
   "execution_count": 94,
   "metadata": {},
   "outputs": [
    {
     "name": "stdout",
     "output_type": "stream",
     "text": [
      "\u001b[5m\u001b[7m\u001b[31mHello, World!\u001b[0m\n"
     ]
    }
   ],
   "source": [
    "import sys\n",
    "from termcolor import colored, cprint\n",
    "\n",
    "text = colored('Hello, World!', 'red', attrs=['reverse', 'blink'])\n",
    "print(text)\n"
   ]
  },
  {
   "cell_type": "code",
   "execution_count": 99,
   "metadata": {},
   "outputs": [
    {
     "name": "stdout",
     "output_type": "stream",
     "text": [
      "['- 1.', '+ 2.', '\\x1b[5m\\x1b[7m\\x1b[31m  o-ring,\\x1b[0m', '\\x1b[5m\\x1b[7m\\x1b[31m  type:\\x1b[0m', '- p34,', '+ p65,', '\\x1b[5m\\x1b[7m\\x1b[31m  application:\\x1b[0m', '\\x1b[5m\\x1b[7m\\x1b[31m  f/model\\x1b[0m', '- 32/40a', '+ 25', '\\x1b[5m\\x1b[7m\\x1b[31m  valve,\\x1b[0m', '\\x1b[5m\\x1b[7m\\x1b[31m  manufacturer\\x1b[0m', '\\x1b[5m\\x1b[7m\\x1b[31m  name:\\x1b[0m', '\\x1b[5m\\x1b[7m\\x1b[31m  mth\\x1b[0m', '\\x1b[5m\\x1b[7m\\x1b[31m  cont\\x1b[0m', '\\x1b[5m\\x1b[7m\\x1b[31m  valves,\\x1b[0m', '\\x1b[5m\\x1b[7m\\x1b[31m  manufacturer\\x1b[0m', '\\x1b[5m\\x1b[7m\\x1b[31m  part\\x1b[0m', '\\x1b[5m\\x1b[7m\\x1b[31m  number:\\x1b[0m', '\\x1b[5m\\x1b[7m\\x1b[31m  32\\x1b[0m']\n"
     ]
    }
   ],
   "source": [
    "newgroup=[]\n",
    "for word in l:\n",
    "    if word.startswith(\"  \"):\n",
    "        word = colored(word, 'red', attrs=['reverse', 'blink'])\n",
    "        newgroup.append(word)\n",
    "    else:\n",
    "        newgroup.append(word)\n",
    "print(newgroup)"
   ]
  },
  {
   "cell_type": "code",
   "execution_count": 102,
   "metadata": {},
   "outputs": [
    {
     "name": "stdout",
     "output_type": "stream",
     "text": [
      "['- 1.', '+ 2.', '\\x1b[5m\\x1b[7m\\x1b[31m 32\\x1b[0m', '\\x1b[5m\\x1b[7m\\x1b[31m 32\\x1b[0m', '- p34,', '+ p65,', '\\x1b[5m\\x1b[7m\\x1b[31m 32\\x1b[0m', '\\x1b[5m\\x1b[7m\\x1b[31m 32\\x1b[0m', '- 32/40a', '+ 25', '\\x1b[5m\\x1b[7m\\x1b[31m 32\\x1b[0m', '\\x1b[5m\\x1b[7m\\x1b[31m 32\\x1b[0m', '\\x1b[5m\\x1b[7m\\x1b[31m 32\\x1b[0m', '\\x1b[5m\\x1b[7m\\x1b[31m 32\\x1b[0m', '\\x1b[5m\\x1b[7m\\x1b[31m 32\\x1b[0m', '\\x1b[5m\\x1b[7m\\x1b[31m 32\\x1b[0m', '\\x1b[5m\\x1b[7m\\x1b[31m 32\\x1b[0m', '\\x1b[5m\\x1b[7m\\x1b[31m 32\\x1b[0m', '\\x1b[5m\\x1b[7m\\x1b[31m 32\\x1b[0m', '\\x1b[5m\\x1b[7m\\x1b[31m 32\\x1b[0m']\n"
     ]
    }
   ],
   "source": [
    "newgroup=[]\n",
    "for word in l:\n",
    "    if word.startswith(\"  \"):\n",
    "        word = \" \".join(colored(t,'white','on_red') if t in word else t for t in text.lower().split())\n",
    "        newgroup.append(word)\n",
    "    else:\n",
    "        newgroup.append(word)\n",
    "print(newgroup)"
   ]
  },
  {
   "cell_type": "code",
   "execution_count": 59,
   "metadata": {},
   "outputs": [
    {
     "name": "stdout",
     "output_type": "stream",
     "text": [
      "1. \u001b[41m\u001b[37mo-ring,\u001b[0m \u001b[41m\u001b[37mtype:\u001b[0m p34, \u001b[41m\u001b[37mapplication:\u001b[0m \u001b[41m\u001b[37mf/model\u001b[0m 32/40a \u001b[41m\u001b[37mvalve,\u001b[0m \u001b[41m\u001b[37mmanufacturer\u001b[0m \u001b[41m\u001b[37mname:\u001b[0m \u001b[41m\u001b[37mmth\u001b[0m \u001b[41m\u001b[37mcont\u001b[0m \u001b[41m\u001b[37mvalves,\u001b[0m \u001b[41m\u001b[37mmanufacturer\u001b[0m \u001b[41m\u001b[37mpart\u001b[0m \u001b[41m\u001b[37mnumber:\u001b[0m \u001b[41m\u001b[37m32\u001b[0m\n",
      "2. \u001b[41m\u001b[37mo-ring,\u001b[0m \u001b[41m\u001b[37mtype:\u001b[0m p65, \u001b[41m\u001b[37mapplication:\u001b[0m \u001b[41m\u001b[37mf/model\u001b[0m 25 \u001b[41m\u001b[37mvalve,\u001b[0m \u001b[41m\u001b[37mmanufacturer\u001b[0m \u001b[41m\u001b[37mname:\u001b[0m \u001b[41m\u001b[37mmth\u001b[0m \u001b[41m\u001b[37mcont\u001b[0m \u001b[41m\u001b[37mvalves,\u001b[0m \u001b[41m\u001b[37mmanufacturer\u001b[0m \u001b[41m\u001b[37mpart\u001b[0m \u001b[41m\u001b[37mnumber:\u001b[0m \u001b[41m\u001b[37m32\u001b[0m\n"
     ]
    }
   ],
   "source": [
    "text=a\n",
    "l1=newgroup\n",
    "result = \" \".join(colored(t,'white','on_red') if t in l1 else t for t in text.lower().split())\n",
    "print(result)\n",
    "\n",
    "text2=b\n",
    "l1=newgroup\n",
    "result2 = \" \".join(colored(t,'white','on_red') if t in l1 else t for t in text2.lower().split())\n",
    "print(result2)"
   ]
  },
  {
   "cell_type": "code",
   "execution_count": 60,
   "metadata": {},
   "outputs": [],
   "source": [
    "file1 = open(\"MyFile.txt\",\"w\") \n",
    "file1.writelines([result,result2])\n",
    "file1.close()"
   ]
  },
  {
   "cell_type": "code",
   "execution_count": null,
   "metadata": {},
   "outputs": [],
   "source": []
  }
 ],
 "metadata": {
  "kernelspec": {
   "display_name": "Python 3",
   "language": "python",
   "name": "python3"
  },
  "language_info": {
   "codemirror_mode": {
    "name": "ipython",
    "version": 3
   },
   "file_extension": ".py",
   "mimetype": "text/x-python",
   "name": "python",
   "nbconvert_exporter": "python",
   "pygments_lexer": "ipython3",
   "version": "3.7.4"
  }
 },
 "nbformat": 4,
 "nbformat_minor": 2
}
