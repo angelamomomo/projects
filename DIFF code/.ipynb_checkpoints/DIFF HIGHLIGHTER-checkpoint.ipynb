{
 "cells": [
  {
   "cell_type": "code",
   "execution_count": 5,
   "metadata": {},
   "outputs": [],
   "source": [
    " import difflib"
   ]
  },
  {
   "cell_type": "code",
   "execution_count": 6,
   "metadata": {},
   "outputs": [
    {
     "name": "stdout",
     "output_type": "stream",
     "text": [
      "Requirement already satisfied: termcolor in c:\\users\\achen551\\appdata\\local\\continuum\\anaconda3\\lib\\site-packages (1.1.0)\n",
      "Note: you may need to restart the kernel to use updated packages.\n"
     ]
    }
   ],
   "source": [
    "pip install termcolor"
   ]
  },
  {
   "cell_type": "code",
   "execution_count": null,
   "metadata": {},
   "outputs": [],
   "source": [
    "a=input(\"Input first sentence:\")\n",
    "b=input(\"input second sentence:\")\n",
    "a1=a.lower().split()\n",
    "b1=b.lower().split()"
   ]
  },
  {
   "cell_type": "code",
   "execution_count": 8,
   "metadata": {},
   "outputs": [],
   "source": [
    "d = difflib.Differ()\n",
    "l = list(d.compare(a1,b1))"
   ]
  },
  {
   "cell_type": "code",
   "execution_count": 9,
   "metadata": {
    "scrolled": false
   },
   "outputs": [
    {
     "data": {
      "text/plain": [
       "['  tie',\n",
       " '  wrap,',\n",
       " '  type:',\n",
       " '+ reusable,',\n",
       " '- reseal',\n",
       " '- able,',\n",
       " '  brand',\n",
       " '  name:',\n",
       " '  ty-rap,',\n",
       " '  diameter',\n",
       " '  x',\n",
       " '  width',\n",
       " '  x',\n",
       " '  length:',\n",
       " '  1/4',\n",
       " '  in',\n",
       " '  wd',\n",
       " '  x',\n",
       " '  12',\n",
       " '  in',\n",
       " '  lg,',\n",
       " '  material',\n",
       " '  type:',\n",
       " '- 316',\n",
       " '  stainless',\n",
       " '- steel',\n",
       " '+ steel,',\n",
       " '?      +\\n',\n",
       " '+ packa',\n",
       " '+ ging',\n",
       " '- ,',\n",
       " '- tensile',\n",
       " '- strength:',\n",
       " '- 75',\n",
       " '- lb,',\n",
       " '- coating:',\n",
       " '- nylon',\n",
       " '- 11,',\n",
       " '- packaging',\n",
       " '  unit:',\n",
       " '  100',\n",
       " '  per',\n",
       " '- pck,',\n",
       " '+ pg,',\n",
       " '  manufacturer',\n",
       " '  name:',\n",
       " '  thomas',\n",
       " '- <(>&<)>',\n",
       " '+ &',\n",
       " '  betts,',\n",
       " '  manufacturer',\n",
       " '  part',\n",
       " '+ number:',\n",
       " '- numb',\n",
       " '- er:',\n",
       " '- ssr12250c316.',\n",
       " '?             -\\n',\n",
       " '+ ssr12250c316',\n",
       " '- (1',\n",
       " '- each',\n",
       " '- =',\n",
       " '- 100',\n",
       " '- pieces',\n",
       " '- (1pk))']"
      ]
     },
     "execution_count": 9,
     "metadata": {},
     "output_type": "execute_result"
    }
   ],
   "source": [
    "l"
   ]
  },
  {
   "cell_type": "code",
   "execution_count": 10,
   "metadata": {},
   "outputs": [
    {
     "data": {
      "text/plain": [
       "['tie',\n",
       " 'wrap,',\n",
       " 'type:',\n",
       " 'brand',\n",
       " 'name:',\n",
       " 'ty-rap,',\n",
       " 'diameter',\n",
       " 'x',\n",
       " 'width',\n",
       " 'x',\n",
       " 'length:',\n",
       " '1/4',\n",
       " 'in',\n",
       " 'wd',\n",
       " 'x',\n",
       " '12',\n",
       " 'in',\n",
       " 'lg,',\n",
       " 'material',\n",
       " 'type:',\n",
       " 'stainless',\n",
       " 'unit:',\n",
       " '100',\n",
       " 'per',\n",
       " 'manufacturer',\n",
       " 'name:',\n",
       " 'thomas',\n",
       " 'betts,',\n",
       " 'manufacturer',\n",
       " 'part']"
      ]
     },
     "execution_count": 10,
     "metadata": {},
     "output_type": "execute_result"
    }
   ],
   "source": [
    "newgroup=[]\n",
    "for word in l:\n",
    "    if word.startswith(\"  \"):\n",
    "        word=word[2:]\n",
    "        newgroup.append(word)\n",
    "newgroup"
   ]
  },
  {
   "cell_type": "code",
   "execution_count": 11,
   "metadata": {
    "scrolled": true
   },
   "outputs": [
    {
     "name": "stdout",
     "output_type": "stream",
     "text": [
      "\u001b[41m\u001b[37mtie\u001b[0m \u001b[41m\u001b[37mwrap,\u001b[0m \u001b[41m\u001b[37mtype:\u001b[0m reseal able, \u001b[41m\u001b[37mbrand\u001b[0m \u001b[41m\u001b[37mname:\u001b[0m \u001b[41m\u001b[37mty-rap,\u001b[0m \u001b[41m\u001b[37mdiameter\u001b[0m \u001b[41m\u001b[37mx\u001b[0m \u001b[41m\u001b[37mwidth\u001b[0m \u001b[41m\u001b[37mx\u001b[0m \u001b[41m\u001b[37mlength:\u001b[0m \u001b[41m\u001b[37m1/4\u001b[0m \u001b[41m\u001b[37min\u001b[0m \u001b[41m\u001b[37mwd\u001b[0m \u001b[41m\u001b[37mx\u001b[0m \u001b[41m\u001b[37m12\u001b[0m \u001b[41m\u001b[37min\u001b[0m \u001b[41m\u001b[37mlg,\u001b[0m \u001b[41m\u001b[37mmaterial\u001b[0m \u001b[41m\u001b[37mtype:\u001b[0m 316 \u001b[41m\u001b[37mstainless\u001b[0m steel , tensile strength: 75 lb, coating: nylon 11, packaging \u001b[41m\u001b[37munit:\u001b[0m \u001b[41m\u001b[37m100\u001b[0m \u001b[41m\u001b[37mper\u001b[0m pck, \u001b[41m\u001b[37mmanufacturer\u001b[0m \u001b[41m\u001b[37mname:\u001b[0m \u001b[41m\u001b[37mthomas\u001b[0m <(>&<)> \u001b[41m\u001b[37mbetts,\u001b[0m \u001b[41m\u001b[37mmanufacturer\u001b[0m \u001b[41m\u001b[37mpart\u001b[0m numb er: ssr12250c316. (1 each = \u001b[41m\u001b[37m100\u001b[0m pieces (1pk))\n",
      "\u001b[41m\u001b[37mtie\u001b[0m \u001b[41m\u001b[37mwrap,\u001b[0m \u001b[41m\u001b[37mtype:\u001b[0m reusable, \u001b[41m\u001b[37mbrand\u001b[0m \u001b[41m\u001b[37mname:\u001b[0m \u001b[41m\u001b[37mty-rap,\u001b[0m \u001b[41m\u001b[37mdiameter\u001b[0m \u001b[41m\u001b[37mx\u001b[0m \u001b[41m\u001b[37mwidth\u001b[0m \u001b[41m\u001b[37mx\u001b[0m \u001b[41m\u001b[37mlength:\u001b[0m \u001b[41m\u001b[37m1/4\u001b[0m \u001b[41m\u001b[37min\u001b[0m \u001b[41m\u001b[37mwd\u001b[0m \u001b[41m\u001b[37mx\u001b[0m \u001b[41m\u001b[37m12\u001b[0m \u001b[41m\u001b[37min\u001b[0m \u001b[41m\u001b[37mlg,\u001b[0m \u001b[41m\u001b[37mmaterial\u001b[0m \u001b[41m\u001b[37mtype:\u001b[0m \u001b[41m\u001b[37mstainless\u001b[0m steel, packa ging \u001b[41m\u001b[37munit:\u001b[0m \u001b[41m\u001b[37m100\u001b[0m \u001b[41m\u001b[37mper\u001b[0m pg, \u001b[41m\u001b[37mmanufacturer\u001b[0m \u001b[41m\u001b[37mname:\u001b[0m \u001b[41m\u001b[37mthomas\u001b[0m & \u001b[41m\u001b[37mbetts,\u001b[0m \u001b[41m\u001b[37mmanufacturer\u001b[0m \u001b[41m\u001b[37mpart\u001b[0m number: ssr12250c316\n"
     ]
    }
   ],
   "source": [
    "from termcolor import colored\n",
    "text=a\n",
    "l1=newgroup\n",
    "result = \" \".join(colored(t,'white','on_red') if t in l1 else t for t in text.lower().split())\n",
    "print(result)\n",
    "\n",
    "text2=b\n",
    "l1=newgroup\n",
    "result2 = \" \".join(colored(t,'white','on_red') if t in l1 else t for t in text2.lower().split())\n",
    "print(result2)"
   ]
  },
  {
   "cell_type": "code",
   "execution_count": null,
   "metadata": {},
   "outputs": [],
   "source": []
  }
 ],
 "metadata": {
  "kernelspec": {
   "display_name": "Python 3",
   "language": "python",
   "name": "python3"
  },
  "language_info": {
   "codemirror_mode": {
    "name": "ipython",
    "version": 3
   },
   "file_extension": ".py",
   "mimetype": "text/x-python",
   "name": "python",
   "nbconvert_exporter": "python",
   "pygments_lexer": "ipython3",
   "version": "3.7.1"
  }
 },
 "nbformat": 4,
 "nbformat_minor": 2
}
